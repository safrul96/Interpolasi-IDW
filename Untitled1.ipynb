{
 "cells": [
  {
   "cell_type": "code",
   "execution_count": 1,
   "id": "1037ae7c-df56-4254-b98d-fb0a9cbae531",
   "metadata": {},
   "outputs": [
    {
     "name": "stdout",
     "output_type": "stream",
     "text": [
      "Requirement already satisfied: pykrige in c:\\users\\safru\\appdata\\local\\programs\\python\\python310\\lib\\site-packages (1.7.0)\n",
      "Requirement already satisfied: numpy<2,>=1.14.5 in c:\\users\\safru\\appdata\\local\\programs\\python\\python310\\lib\\site-packages (from pykrige) (1.24.1)\n",
      "Requirement already satisfied: scipy<2,>=1.1.0 in c:\\users\\safru\\appdata\\local\\programs\\python\\python310\\lib\\site-packages (from pykrige) (1.9.3)\n",
      "Note: you may need to restart the kernel to use updated packages.\n"
     ]
    }
   ],
   "source": [
    "pip install pykrige"
   ]
  },
  {
   "cell_type": "code",
   "execution_count": 2,
   "id": "844fdf5b-0b34-4054-afb9-404d5e9ff95d",
   "metadata": {},
   "outputs": [
    {
     "name": "stdout",
     "output_type": "stream",
     "text": [
      "Requirement already satisfied: seaborn in c:\\users\\safru\\appdata\\local\\programs\\python\\python310\\lib\\site-packages (0.12.2)\n",
      "Requirement already satisfied: pandas>=0.25 in c:\\users\\safru\\appdata\\local\\programs\\python\\python310\\lib\\site-packages (from seaborn) (1.5.2)\n",
      "Requirement already satisfied: matplotlib!=3.6.1,>=3.1 in c:\\users\\safru\\appdata\\local\\programs\\python\\python310\\lib\\site-packages (from seaborn) (3.6.2)\n",
      "Requirement already satisfied: numpy!=1.24.0,>=1.17 in c:\\users\\safru\\appdata\\local\\programs\\python\\python310\\lib\\site-packages (from seaborn) (1.24.1)\n",
      "Requirement already satisfied: cycler>=0.10 in c:\\users\\safru\\appdata\\local\\programs\\python\\python310\\lib\\site-packages (from matplotlib!=3.6.1,>=3.1->seaborn) (0.11.0)\n",
      "Requirement already satisfied: kiwisolver>=1.0.1 in c:\\users\\safru\\appdata\\local\\programs\\python\\python310\\lib\\site-packages (from matplotlib!=3.6.1,>=3.1->seaborn) (1.4.4)\n",
      "Requirement already satisfied: pillow>=6.2.0 in c:\\users\\safru\\appdata\\local\\programs\\python\\python310\\lib\\site-packages (from matplotlib!=3.6.1,>=3.1->seaborn) (9.3.0)\n",
      "Requirement already satisfied: packaging>=20.0 in c:\\users\\safru\\appdata\\local\\programs\\python\\python310\\lib\\site-packages (from matplotlib!=3.6.1,>=3.1->seaborn) (22.0)\n",
      "Requirement already satisfied: pyparsing>=2.2.1 in c:\\users\\safru\\appdata\\local\\programs\\python\\python310\\lib\\site-packages (from matplotlib!=3.6.1,>=3.1->seaborn) (3.0.9)\n",
      "Requirement already satisfied: python-dateutil>=2.7 in c:\\users\\safru\\appdata\\local\\programs\\python\\python310\\lib\\site-packages (from matplotlib!=3.6.1,>=3.1->seaborn) (2.8.2)\n",
      "Requirement already satisfied: contourpy>=1.0.1 in c:\\users\\safru\\appdata\\local\\programs\\python\\python310\\lib\\site-packages (from matplotlib!=3.6.1,>=3.1->seaborn) (1.0.6)\n",
      "Requirement already satisfied: fonttools>=4.22.0 in c:\\users\\safru\\appdata\\local\\programs\\python\\python310\\lib\\site-packages (from matplotlib!=3.6.1,>=3.1->seaborn) (4.38.0)\n",
      "Requirement already satisfied: pytz>=2020.1 in c:\\users\\safru\\appdata\\local\\programs\\python\\python310\\lib\\site-packages (from pandas>=0.25->seaborn) (2022.7)\n",
      "Requirement already satisfied: six>=1.5 in c:\\users\\safru\\appdata\\local\\programs\\python\\python310\\lib\\site-packages (from python-dateutil>=2.7->matplotlib!=3.6.1,>=3.1->seaborn) (1.16.0)\n",
      "Note: you may need to restart the kernel to use updated packages.\n"
     ]
    }
   ],
   "source": [
    "pip install seaborn"
   ]
  },
  {
   "cell_type": "code",
   "execution_count": 3,
   "id": "0a5ef13c-f627-49a2-87ed-3a05c17e05b8",
   "metadata": {},
   "outputs": [],
   "source": [
    "import matplotlib.pyplot as plt\n",
    "import numpy as np\n",
    "import geopandas as gpd\n",
    "import pykrige.kriging_tools as kt\n",
    "from pykrige.ok import OrdinaryKriging\n",
    "import seaborn as sns"
   ]
  },
  {
   "cell_type": "code",
   "execution_count": 4,
   "id": "65a25282-3a0d-48eb-af93-d5945940d872",
   "metadata": {},
   "outputs": [
    {
     "data": {
      "text/html": [
       "<div>\n",
       "<style scoped>\n",
       "    .dataframe tbody tr th:only-of-type {\n",
       "        vertical-align: middle;\n",
       "    }\n",
       "\n",
       "    .dataframe tbody tr th {\n",
       "        vertical-align: top;\n",
       "    }\n",
       "\n",
       "    .dataframe thead th {\n",
       "        text-align: right;\n",
       "    }\n",
       "</style>\n",
       "<table border=\"1\" class=\"dataframe\">\n",
       "  <thead>\n",
       "    <tr style=\"text-align: right;\">\n",
       "      <th></th>\n",
       "      <th>MEAN_X</th>\n",
       "      <th>MEAN_Y</th>\n",
       "      <th>spt</th>\n",
       "      <th>Radiasi</th>\n",
       "      <th>Bulan</th>\n",
       "      <th>geometry</th>\n",
       "    </tr>\n",
       "  </thead>\n",
       "  <tbody>\n",
       "    <tr>\n",
       "      <th>0</th>\n",
       "      <td>110.151778</td>\n",
       "      <td>-7.598635</td>\n",
       "      <td>3</td>\n",
       "      <td>118.5</td>\n",
       "      <td>Agustus</td>\n",
       "      <td>POINT (406434.129 9159981.684)</td>\n",
       "    </tr>\n",
       "    <tr>\n",
       "      <th>1</th>\n",
       "      <td>110.181452</td>\n",
       "      <td>-7.600729</td>\n",
       "      <td>2</td>\n",
       "      <td>118.5</td>\n",
       "      <td>Agustus</td>\n",
       "      <td>POINT (409708.125 9159756.404)</td>\n",
       "    </tr>\n",
       "    <tr>\n",
       "      <th>2</th>\n",
       "      <td>110.228624</td>\n",
       "      <td>-7.575690</td>\n",
       "      <td>1</td>\n",
       "      <td>118.5</td>\n",
       "      <td>Agustus</td>\n",
       "      <td>POINT (414906.873 9162534.238)</td>\n",
       "    </tr>\n",
       "    <tr>\n",
       "      <th>3</th>\n",
       "      <td>110.235231</td>\n",
       "      <td>-7.408514</td>\n",
       "      <td>7</td>\n",
       "      <td>124.8</td>\n",
       "      <td>Agustus</td>\n",
       "      <td>POINT (415603.685 9181018.330)</td>\n",
       "    </tr>\n",
       "    <tr>\n",
       "      <th>4</th>\n",
       "      <td>110.180655</td>\n",
       "      <td>-7.643306</td>\n",
       "      <td>6</td>\n",
       "      <td>118.5</td>\n",
       "      <td>Agustus</td>\n",
       "      <td>POINT (409629.163 9155048.964)</td>\n",
       "    </tr>\n",
       "    <tr>\n",
       "      <th>5</th>\n",
       "      <td>110.080740</td>\n",
       "      <td>-7.568017</td>\n",
       "      <td>5</td>\n",
       "      <td>118.5</td>\n",
       "      <td>Agustus</td>\n",
       "      <td>POINT (398590.270 9163350.854)</td>\n",
       "    </tr>\n",
       "    <tr>\n",
       "      <th>6</th>\n",
       "      <td>110.161540</td>\n",
       "      <td>-7.597674</td>\n",
       "      <td>4</td>\n",
       "      <td>124.8</td>\n",
       "      <td>Agustus</td>\n",
       "      <td>POINT (407510.906 9160089.965)</td>\n",
       "    </tr>\n",
       "    <tr>\n",
       "      <th>7</th>\n",
       "      <td>110.174696</td>\n",
       "      <td>-7.495147</td>\n",
       "      <td>11</td>\n",
       "      <td>118.5</td>\n",
       "      <td>Agustus</td>\n",
       "      <td>POINT (408940.739 9171428.237)</td>\n",
       "    </tr>\n",
       "    <tr>\n",
       "      <th>8</th>\n",
       "      <td>110.261501</td>\n",
       "      <td>-7.565325</td>\n",
       "      <td>10</td>\n",
       "      <td>124.8</td>\n",
       "      <td>Agustus</td>\n",
       "      <td>POINT (418531.898 9163686.500)</td>\n",
       "    </tr>\n",
       "    <tr>\n",
       "      <th>9</th>\n",
       "      <td>110.290914</td>\n",
       "      <td>-7.365595</td>\n",
       "      <td>9</td>\n",
       "      <td>208.9</td>\n",
       "      <td>Agustus</td>\n",
       "      <td>POINT (421741.340 9185773.475)</td>\n",
       "    </tr>\n",
       "    <tr>\n",
       "      <th>10</th>\n",
       "      <td>110.279048</td>\n",
       "      <td>-7.384001</td>\n",
       "      <td>8</td>\n",
       "      <td>208.9</td>\n",
       "      <td>Agustus</td>\n",
       "      <td>POINT (420434.949 9183736.503)</td>\n",
       "    </tr>\n",
       "    <tr>\n",
       "      <th>11</th>\n",
       "      <td>110.207288</td>\n",
       "      <td>-7.436237</td>\n",
       "      <td>15</td>\n",
       "      <td>208.9</td>\n",
       "      <td>Agustus</td>\n",
       "      <td>POINT (412525.283 9177947.876)</td>\n",
       "    </tr>\n",
       "    <tr>\n",
       "      <th>12</th>\n",
       "      <td>110.161024</td>\n",
       "      <td>-7.613705</td>\n",
       "      <td>14</td>\n",
       "      <td>118.5</td>\n",
       "      <td>Agustus</td>\n",
       "      <td>POINT (407457.323 9158317.529)</td>\n",
       "    </tr>\n",
       "    <tr>\n",
       "      <th>13</th>\n",
       "      <td>110.235727</td>\n",
       "      <td>-7.442392</td>\n",
       "      <td>13</td>\n",
       "      <td>208.9</td>\n",
       "      <td>Agustus</td>\n",
       "      <td>POINT (415664.840 9177272.959)</td>\n",
       "    </tr>\n",
       "    <tr>\n",
       "      <th>14</th>\n",
       "      <td>110.136842</td>\n",
       "      <td>-7.483646</td>\n",
       "      <td>12</td>\n",
       "      <td>124.8</td>\n",
       "      <td>Agustus</td>\n",
       "      <td>POINT (404761.305 9172691.732)</td>\n",
       "    </tr>\n",
       "    <tr>\n",
       "      <th>15</th>\n",
       "      <td>110.328815</td>\n",
       "      <td>-7.510761</td>\n",
       "      <td>19</td>\n",
       "      <td>160.9</td>\n",
       "      <td>Agustus</td>\n",
       "      <td>POINT (425948.836 9169730.957)</td>\n",
       "    </tr>\n",
       "    <tr>\n",
       "      <th>16</th>\n",
       "      <td>110.188844</td>\n",
       "      <td>-7.511184</td>\n",
       "      <td>18</td>\n",
       "      <td>208.9</td>\n",
       "      <td>Agustus</td>\n",
       "      <td>POINT (410505.085 9169658.058)</td>\n",
       "    </tr>\n",
       "    <tr>\n",
       "      <th>17</th>\n",
       "      <td>110.299714</td>\n",
       "      <td>-7.618581</td>\n",
       "      <td>17</td>\n",
       "      <td>160.9</td>\n",
       "      <td>Agustus</td>\n",
       "      <td>POINT (422757.146 9157805.676)</td>\n",
       "    </tr>\n",
       "    <tr>\n",
       "      <th>18</th>\n",
       "      <td>110.267729</td>\n",
       "      <td>-7.605661</td>\n",
       "      <td>16</td>\n",
       "      <td>160.9</td>\n",
       "      <td>Agustus</td>\n",
       "      <td>POINT (419226.599 9159228.204)</td>\n",
       "    </tr>\n",
       "    <tr>\n",
       "      <th>19</th>\n",
       "      <td>110.407035</td>\n",
       "      <td>-7.457546</td>\n",
       "      <td>23</td>\n",
       "      <td>208.9</td>\n",
       "      <td>Agustus</td>\n",
       "      <td>POINT (434571.183 9175626.535)</td>\n",
       "    </tr>\n",
       "    <tr>\n",
       "      <th>20</th>\n",
       "      <td>110.327374</td>\n",
       "      <td>-7.488543</td>\n",
       "      <td>22</td>\n",
       "      <td>208.9</td>\n",
       "      <td>Agustus</td>\n",
       "      <td>POINT (425786.049 9172187.040)</td>\n",
       "    </tr>\n",
       "    <tr>\n",
       "      <th>21</th>\n",
       "      <td>110.247048</td>\n",
       "      <td>-7.411408</td>\n",
       "      <td>21</td>\n",
       "      <td>124.8</td>\n",
       "      <td>Agustus</td>\n",
       "      <td>POINT (416908.359 9180700.587)</td>\n",
       "    </tr>\n",
       "    <tr>\n",
       "      <th>22</th>\n",
       "      <td>110.279704</td>\n",
       "      <td>-7.507421</td>\n",
       "      <td>20</td>\n",
       "      <td>208.9</td>\n",
       "      <td>Agustus</td>\n",
       "      <td>POINT (420529.517 9170091.566)</td>\n",
       "    </tr>\n",
       "    <tr>\n",
       "      <th>23</th>\n",
       "      <td>110.370979</td>\n",
       "      <td>-7.539053</td>\n",
       "      <td>27</td>\n",
       "      <td>208.9</td>\n",
       "      <td>Agustus</td>\n",
       "      <td>POINT (430605.358 9166610.041)</td>\n",
       "    </tr>\n",
       "    <tr>\n",
       "      <th>24</th>\n",
       "      <td>110.342473</td>\n",
       "      <td>-7.437391</td>\n",
       "      <td>26</td>\n",
       "      <td>208.9</td>\n",
       "      <td>Agustus</td>\n",
       "      <td>POINT (427443.647 9177844.736)</td>\n",
       "    </tr>\n",
       "    <tr>\n",
       "      <th>25</th>\n",
       "      <td>110.331786</td>\n",
       "      <td>-7.332389</td>\n",
       "      <td>25</td>\n",
       "      <td>208.9</td>\n",
       "      <td>Agustus</td>\n",
       "      <td>POINT (426246.923 9189451.480)</td>\n",
       "    </tr>\n",
       "    <tr>\n",
       "      <th>26</th>\n",
       "      <td>110.258022</td>\n",
       "      <td>-7.482687</td>\n",
       "      <td>24</td>\n",
       "      <td>160.9</td>\n",
       "      <td>Agustus</td>\n",
       "      <td>POINT (418132.661 9172822.182)</td>\n",
       "    </tr>\n",
       "  </tbody>\n",
       "</table>\n",
       "</div>"
      ],
      "text/plain": [
       "        MEAN_X    MEAN_Y  spt  Radiasi    Bulan  \\\n",
       "0   110.151778 -7.598635    3    118.5  Agustus   \n",
       "1   110.181452 -7.600729    2    118.5  Agustus   \n",
       "2   110.228624 -7.575690    1    118.5  Agustus   \n",
       "3   110.235231 -7.408514    7    124.8  Agustus   \n",
       "4   110.180655 -7.643306    6    118.5  Agustus   \n",
       "5   110.080740 -7.568017    5    118.5  Agustus   \n",
       "6   110.161540 -7.597674    4    124.8  Agustus   \n",
       "7   110.174696 -7.495147   11    118.5  Agustus   \n",
       "8   110.261501 -7.565325   10    124.8  Agustus   \n",
       "9   110.290914 -7.365595    9    208.9  Agustus   \n",
       "10  110.279048 -7.384001    8    208.9  Agustus   \n",
       "11  110.207288 -7.436237   15    208.9  Agustus   \n",
       "12  110.161024 -7.613705   14    118.5  Agustus   \n",
       "13  110.235727 -7.442392   13    208.9  Agustus   \n",
       "14  110.136842 -7.483646   12    124.8  Agustus   \n",
       "15  110.328815 -7.510761   19    160.9  Agustus   \n",
       "16  110.188844 -7.511184   18    208.9  Agustus   \n",
       "17  110.299714 -7.618581   17    160.9  Agustus   \n",
       "18  110.267729 -7.605661   16    160.9  Agustus   \n",
       "19  110.407035 -7.457546   23    208.9  Agustus   \n",
       "20  110.327374 -7.488543   22    208.9  Agustus   \n",
       "21  110.247048 -7.411408   21    124.8  Agustus   \n",
       "22  110.279704 -7.507421   20    208.9  Agustus   \n",
       "23  110.370979 -7.539053   27    208.9  Agustus   \n",
       "24  110.342473 -7.437391   26    208.9  Agustus   \n",
       "25  110.331786 -7.332389   25    208.9  Agustus   \n",
       "26  110.258022 -7.482687   24    160.9  Agustus   \n",
       "\n",
       "                          geometry  \n",
       "0   POINT (406434.129 9159981.684)  \n",
       "1   POINT (409708.125 9159756.404)  \n",
       "2   POINT (414906.873 9162534.238)  \n",
       "3   POINT (415603.685 9181018.330)  \n",
       "4   POINT (409629.163 9155048.964)  \n",
       "5   POINT (398590.270 9163350.854)  \n",
       "6   POINT (407510.906 9160089.965)  \n",
       "7   POINT (408940.739 9171428.237)  \n",
       "8   POINT (418531.898 9163686.500)  \n",
       "9   POINT (421741.340 9185773.475)  \n",
       "10  POINT (420434.949 9183736.503)  \n",
       "11  POINT (412525.283 9177947.876)  \n",
       "12  POINT (407457.323 9158317.529)  \n",
       "13  POINT (415664.840 9177272.959)  \n",
       "14  POINT (404761.305 9172691.732)  \n",
       "15  POINT (425948.836 9169730.957)  \n",
       "16  POINT (410505.085 9169658.058)  \n",
       "17  POINT (422757.146 9157805.676)  \n",
       "18  POINT (419226.599 9159228.204)  \n",
       "19  POINT (434571.183 9175626.535)  \n",
       "20  POINT (425786.049 9172187.040)  \n",
       "21  POINT (416908.359 9180700.587)  \n",
       "22  POINT (420529.517 9170091.566)  \n",
       "23  POINT (430605.358 9166610.041)  \n",
       "24  POINT (427443.647 9177844.736)  \n",
       "25  POINT (426246.923 9189451.480)  \n",
       "26  POINT (418132.661 9172822.182)  "
      ]
     },
     "execution_count": 4,
     "metadata": {},
     "output_type": "execute_result"
    }
   ],
   "source": [
    "point_file = gpd.read_file(\"radiasi_point_.shp\")\n",
    "point_file"
   ]
  },
  {
   "cell_type": "code",
   "execution_count": 5,
   "id": "1da6fb70-6ad0-46a5-89e1-246a2988c8c1",
   "metadata": {},
   "outputs": [
    {
     "data": {
      "text/plain": [
       "array([118.5, 118.5, 118.5, 124.8, 118.5, 118.5, 124.8, 118.5, 124.8,\n",
       "       208.9, 208.9, 208.9, 118.5, 208.9, 124.8, 160.9, 208.9, 160.9,\n",
       "       160.9, 208.9, 208.9, 124.8, 208.9, 208.9, 208.9, 208.9, 160.9])"
      ]
     },
     "execution_count": 5,
     "metadata": {},
     "output_type": "execute_result"
    }
   ],
   "source": [
    "data_radiasi = np.array(point_file['Radiasi'])\n",
    "data_radiasi"
   ]
  },
  {
   "cell_type": "code",
   "execution_count": 6,
   "id": "0a1336a3-4425-441b-831f-569f09aa55a7",
   "metadata": {},
   "outputs": [
    {
     "data": {
      "text/plain": [
       "array([110.15177769, 110.18145217, 110.22862357, 110.23523148,\n",
       "       110.18065544, 110.08073979, 110.16154041, 110.17469606,\n",
       "       110.26150057, 110.29091421, 110.27904808, 110.20728818,\n",
       "       110.16102355, 110.2357271 , 110.13684166, 110.3288152 ,\n",
       "       110.18884368, 110.29971389, 110.26772942, 110.4070354 ,\n",
       "       110.32737391, 110.24704837, 110.27970352, 110.37097851,\n",
       "       110.34247303, 110.33178614, 110.25802216])"
      ]
     },
     "execution_count": 6,
     "metadata": {},
     "output_type": "execute_result"
    }
   ],
   "source": [
    "gridx = np.array(point_file['MEAN_X'])\n",
    "gridx"
   ]
  },
  {
   "cell_type": "code",
   "execution_count": 7,
   "id": "a4f29bb5-9792-4127-8c09-7e1d2e0d9567",
   "metadata": {},
   "outputs": [
    {
     "data": {
      "text/plain": [
       "array([-7.59863478, -7.60072935, -7.57569041, -7.40851372, -7.64330578,\n",
       "       -7.5680174 , -7.59767436, -7.49514677, -7.56532518, -7.36559497,\n",
       "       -7.38400067, -7.43623695, -7.61370466, -7.4423915 , -7.48364612,\n",
       "       -7.51076098, -7.51118413, -7.61858069, -7.60566103, -7.45754627,\n",
       "       -7.48854311, -7.41140787, -7.50742145, -7.53905278, -7.43739091,\n",
       "       -7.33238945, -7.48268686])"
      ]
     },
     "execution_count": 7,
     "metadata": {},
     "output_type": "execute_result"
    }
   ],
   "source": [
    "gridy = np.array(point_file['MEAN_Y'])\n",
    "gridy"
   ]
  },
  {
   "cell_type": "code",
   "execution_count": 8,
   "id": "2f5b2160-70fd-4454-beb6-984e509512e4",
   "metadata": {},
   "outputs": [],
   "source": [
    "OK = OrdinaryKriging(\n",
    "    point_file.iloc[:, 0],\n",
    "    point_file.iloc[:, 1],\n",
    "    point_file.iloc[:, 3],\n",
    "    variogram_model=\"linear\",\n",
    "    verbose=False,\n",
    "    enable_plotting=False,\n",
    ")"
   ]
  },
  {
   "cell_type": "code",
   "execution_count": 9,
   "id": "10afa182-6a5f-4592-af15-a1b2585fa6c3",
   "metadata": {},
   "outputs": [
    {
     "name": "stdout",
     "output_type": "stream",
     "text": [
      "Plotting Enabled\n",
      "\n",
      "Adjusting data for anisotropy...\n",
      "Initializing variogram model...\n",
      "Coordinates type: 'euclidean' \n",
      "\n",
      "Using 'exponential' Variogram Model\n",
      "Partial Sill: 1443.9811662192683\n",
      "Full Sill: 2145.5465688626273\n",
      "Range: 0.31131746059622\n",
      "Nugget: 701.5654026433589 \n",
      "\n"
     ]
    },
    {
     "data": {
      "image/png": "[encoded data removed]",
      "text/plain": [
       "<Figure size 640x480 with 1 Axes>"
      ]
     },
     "metadata": {},
     "output_type": "display_data"
    },
    {
     "name": "stdout",
     "output_type": "stream",
     "text": [
      "Calculating statistics on variogram model fit...\n"
     ]
    }
   ],
   "source": [
    "OK = OrdinaryKriging(\n",
    "    point_file.iloc[:, 0],\n",
    "    point_file.iloc[:, 1],\n",
    "    point_file.iloc[:, 3],\n",
    "    variogram_model='exponential',\n",
    "    verbose=True, \n",
    "    enable_plotting=True\n",
    ")"
   ]
  },
  {
   "cell_type": "code",
   "execution_count": 10,
   "id": "13c1abfe-8d40-4d27-be30-0f66ce80396d",
   "metadata": {},
   "outputs": [
    {
     "name": "stdout",
     "output_type": "stream",
     "text": [
      "Executing Ordinary Kriging...\n",
      "\n"
     ]
    }
   ],
   "source": [
    "z, ss = OK.execute(\"grid\", gridx, gridy)"
   ]
  },
  {
   "cell_type": "code",
   "execution_count": 11,
   "id": "f96d643f-466d-4669-82f3-c08c10bba424",
   "metadata": {},
   "outputs": [
    {
     "data": {
      "image/png": "[encoded data removed]",
      "text/plain": [
       "<Figure size 640x480 with 1 Axes>"
      ]
     },
     "metadata": {},
     "output_type": "display_data"
    }
   ],
   "source": [
    "plt.imshow(z)\n",
    "plt.show()"
   ]
  }
 ],
 "metadata": {
  "kernelspec": {
   "display_name": "Python 3 (ipykernel)",
   "language": "python",
   "name": "python3"
  },
  "language_info": {
   "codemirror_mode": {
    "name": "ipython",
    "version": 3
   },
   "file_extension": ".py",
   "mimetype": "text/x-python",
   "name": "python",
   "nbconvert_exporter": "python",
   "pygments_lexer": "ipython3",
   "version": "3.10.8"
  }
 },
 "nbformat": 4,
 "nbformat_minor": 5
}
